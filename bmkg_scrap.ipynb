{
  "nbformat": 4,
  "nbformat_minor": 0,
  "metadata": {
    "colab": {
      "provenance": [],
      "authorship_tag": "ABX9TyNyvuzhWXjZ7rY0msjp48Ne"
    },
    "kernelspec": {
      "name": "python3",
      "display_name": "Python 3"
    },
    "language_info": {
      "name": "python"
    }
  },
  "cells": [
    {
      "cell_type": "markdown",
      "source": [
        "# **1. Instalasi dan Import Library**"
      ],
      "metadata": {
        "id": "3td9vINeKK4n"
      }
    },
    {
      "cell_type": "code",
      "execution_count": 1,
      "metadata": {
        "colab": {
          "base_uri": "https://localhost:8080/"
        },
        "id": "qBBfsL2nKDxM",
        "outputId": "5a8dc37c-a783-44c8-a67b-97fd95efbce0"
      },
      "outputs": [
        {
          "output_type": "stream",
          "name": "stdout",
          "text": [
            "Requirement already satisfied: bs4 in /usr/local/lib/python3.10/dist-packages (0.0.1)\n",
            "Requirement already satisfied: beautifulsoup4 in /usr/local/lib/python3.10/dist-packages (from bs4) (4.11.2)\n",
            "Requirement already satisfied: soupsieve>1.2 in /usr/local/lib/python3.10/dist-packages (from beautifulsoup4->bs4) (2.5)\n"
          ]
        }
      ],
      "source": [
        "pip install bs4"
      ]
    },
    {
      "cell_type": "code",
      "source": [
        "import bs4\n",
        "from urllib.request import urlopen as uReq\n",
        "from bs4 import BeautifulSoup as soup\n",
        "import re"
      ],
      "metadata": {
        "id": "VZ6NahL8K8fc"
      },
      "execution_count": 2,
      "outputs": []
    },
    {
      "cell_type": "markdown",
      "source": [
        "# **2. Koneksi ke web page**"
      ],
      "metadata": {
        "id": "aY7j6JzULRG-"
      }
    },
    {
      "cell_type": "code",
      "source": [
        "my_url = 'https://warning.bmkg.go.id/'"
      ],
      "metadata": {
        "id": "VoJJTerqLd0z"
      },
      "execution_count": 3,
      "outputs": []
    },
    {
      "cell_type": "code",
      "source": [
        "uClient = uReq(my_url)\n",
        "page_html = uClient.read()\n",
        "uClient.close()"
      ],
      "metadata": {
        "id": "LZPkNGoaOZnj"
      },
      "execution_count": 4,
      "outputs": []
    },
    {
      "cell_type": "code",
      "source": [
        "page_soup = soup(page_html, \"html.parser\")"
      ],
      "metadata": {
        "id": "0KztNmJMOeYO"
      },
      "execution_count": 5,
      "outputs": []
    },
    {
      "cell_type": "code",
      "source": [
        "page_soup.h1"
      ],
      "metadata": {
        "colab": {
          "base_uri": "https://localhost:8080/"
        },
        "id": "jwEaCXiyOg67",
        "outputId": "613892c3-b67a-43b0-f431-05091fb15d53"
      },
      "execution_count": 6,
      "outputs": [
        {
          "output_type": "execute_result",
          "data": {
            "text/plain": [
              "<h1><img alt=\"BMKG\" height=\"98\" src=\"img/logo-bmkg.png\" width=\"80\"/></h1>"
            ]
          },
          "metadata": {},
          "execution_count": 6
        }
      ]
    },
    {
      "cell_type": "markdown",
      "source": [
        "# **3. Mengkonvert data dari HTML**"
      ],
      "metadata": {
        "id": "Zfpb4Vz1PKYM"
      }
    },
    {
      "cell_type": "code",
      "source": [
        "scrap = page_soup.findAll(\"div\", {\"class\":\"col-8\"})"
      ],
      "metadata": {
        "id": "yIfoNluXPPUL"
      },
      "execution_count": 7,
      "outputs": []
    },
    {
      "cell_type": "code",
      "source": [
        "len(scrap)"
      ],
      "metadata": {
        "colab": {
          "base_uri": "https://localhost:8080/"
        },
        "id": "9999dBSmRd4u",
        "outputId": "14cadb0b-b77e-4c20-cfea-97f1f52e8d8a"
      },
      "execution_count": 8,
      "outputs": [
        {
          "output_type": "execute_result",
          "data": {
            "text/plain": [
              "1"
            ]
          },
          "metadata": {},
          "execution_count": 8
        }
      ]
    },
    {
      "cell_type": "code",
      "source": [
        "page = scrap[0]\n",
        "page"
      ],
      "metadata": {
        "colab": {
          "base_uri": "https://localhost:8080/"
        },
        "id": "epR_G7u7Vmap",
        "outputId": "27771680-e9c9-4513-c007-215ef3991bd0"
      },
      "execution_count": 9,
      "outputs": [
        {
          "output_type": "execute_result",
          "data": {
            "text/plain": [
              "<div class=\"col-8\"> <div class=\"lindu\">\n",
              "<h3 class=\"margin-bottom-10 center m5\">Gempabumi M ≥ 5.0</h3> <h5 class=\"center\">05 Oktober 2023, 11:25:47 WIB</h5>\n",
              "<div id=\"map\"></div>\n",
              "<ul class=\"infolindu\">\n",
              "<li><img alt=\"Magnitudo\" height=\"26\" src=\"img/magnitude.png\" width=\"26\"/>5.0<span>Magnitudo</span></li>\n",
              "<li><img alt=\"Kedalaman\" height=\"26\" src=\"img/kedalaman.png\" width=\"26\"/>10 km<span>Kedalaman</span></li>\n",
              "<li><img alt=\"Koordinat\" height=\"26\" src=\"img/koordinat.png\" width=\"26\"/>4.46 LS<br/>127.09 BT</li>\n",
              "</ul>\n",
              "<div class=\"infoext\">\n",
              "<p class=\"par\"><span>Lokasi Gempa</span>99 km BaratDaya BURUSELATAN-MALUKU</p>\n",
              "<p class=\"par\"><span>Arahan</span>tidak berpotensi TSUNAMI</p>\n",
              "<p class=\"par\"><span>Saran BMKG</span>Hati-hati terhadap gempabumi susulan yang mungkin terjadi</p>\n",
              "<p><a class=\"tombol shakemap\" href=\"https://bmkg-content-inatews.storage.googleapis.com/20231005112828.mmi.jpg\" rel=\"noopener\" target=\"_blank\">Peta Guncangan (<em>Shakemap</em>)</a></p>\n",
              "<p class=\"alert-lindu\">Info Gempa Mag:5.0, 05-Okt-23 11:25:47 WIB, Lok:4.46 LS, 127.09 BT (99 km BaratDaya BURUSELATAN-MALUKU), Kedlmn:10 Km  #BMKG</p> <small>— Waktu pemutakhiran: 05/10/2023 11:28:28WIB</small>\n",
              "</div>\n",
              "</div>\n",
              "</div>"
            ]
          },
          "metadata": {},
          "execution_count": 9
        }
      ]
    },
    {
      "cell_type": "markdown",
      "source": [
        "# **4. Membangun Scraper**"
      ],
      "metadata": {
        "id": "i_8pZft_WxZA"
      }
    },
    {
      "cell_type": "markdown",
      "source": [
        "### A. Magnitudo"
      ],
      "metadata": {
        "id": "coCKIQe_XghU"
      }
    },
    {
      "cell_type": "code",
      "source": [
        "magnitudo = page.div.select(\"li\", {\"img alt\":\"Magnitudo\"})\n",
        "mag = magnitudo[0].text\n",
        "mag"
      ],
      "metadata": {
        "colab": {
          "base_uri": "https://localhost:8080/",
          "height": 35
        },
        "id": "nUnuYeQxW3N2",
        "outputId": "7090463f-ae83-4020-f5f6-f6a07afcb9c2"
      },
      "execution_count": 10,
      "outputs": [
        {
          "output_type": "execute_result",
          "data": {
            "text/plain": [
              "'5.0Magnitudo'"
            ],
            "application/vnd.google.colaboratory.intrinsic+json": {
              "type": "string"
            }
          },
          "metadata": {},
          "execution_count": 10
        }
      ]
    },
    {
      "cell_type": "code",
      "source": [
        "ang_mag = r'[\\d\\W]'\n",
        "ang = re.findall(ang_mag, mag)\n",
        "ang"
      ],
      "metadata": {
        "colab": {
          "base_uri": "https://localhost:8080/"
        },
        "id": "uTCLNVKLymks",
        "outputId": "fb512166-4077-45bc-be9b-f34194ed9d79"
      },
      "execution_count": 11,
      "outputs": [
        {
          "output_type": "execute_result",
          "data": {
            "text/plain": [
              "['5', '.', '0']"
            ]
          },
          "metadata": {},
          "execution_count": 11
        }
      ]
    },
    {
      "cell_type": "code",
      "source": [
        "an = ''.join(ang)\n",
        "an"
      ],
      "metadata": {
        "colab": {
          "base_uri": "https://localhost:8080/",
          "height": 35
        },
        "id": "Fg04Nk6s0Sks",
        "outputId": "abca306c-a159-42e5-d60f-ffd7bda2bbdd"
      },
      "execution_count": 12,
      "outputs": [
        {
          "output_type": "execute_result",
          "data": {
            "text/plain": [
              "'5.0'"
            ],
            "application/vnd.google.colaboratory.intrinsic+json": {
              "type": "string"
            }
          },
          "metadata": {},
          "execution_count": 12
        }
      ]
    },
    {
      "cell_type": "code",
      "source": [
        "hur_mag = r'[a-zA-Z]'\n",
        "hur = re.findall(hur_mag, mag)\n",
        "hur"
      ],
      "metadata": {
        "colab": {
          "base_uri": "https://localhost:8080/"
        },
        "id": "4fLuidGzz_cG",
        "outputId": "92099909-bf02-4d19-a673-2a802f5c4f32"
      },
      "execution_count": 13,
      "outputs": [
        {
          "output_type": "execute_result",
          "data": {
            "text/plain": [
              "['M', 'a', 'g', 'n', 'i', 't', 'u', 'd', 'o']"
            ]
          },
          "metadata": {},
          "execution_count": 13
        }
      ]
    },
    {
      "cell_type": "code",
      "source": [
        "hu = ''.join(hur)\n",
        "hu"
      ],
      "metadata": {
        "colab": {
          "base_uri": "https://localhost:8080/",
          "height": 35
        },
        "id": "4jkasj2I0PEd",
        "outputId": "a5bf9e54-7b79-44d6-c0b7-7c6663c2fb1c"
      },
      "execution_count": 14,
      "outputs": [
        {
          "output_type": "execute_result",
          "data": {
            "text/plain": [
              "'Magnitudo'"
            ],
            "application/vnd.google.colaboratory.intrinsic+json": {
              "type": "string"
            }
          },
          "metadata": {},
          "execution_count": 14
        }
      ]
    },
    {
      "cell_type": "code",
      "source": [
        "magni = an + \" \" + hu\n",
        "magni"
      ],
      "metadata": {
        "colab": {
          "base_uri": "https://localhost:8080/",
          "height": 35
        },
        "id": "4RGevPIb0gEQ",
        "outputId": "88c11efc-ad20-4ffc-c6db-067706a873cd"
      },
      "execution_count": 15,
      "outputs": [
        {
          "output_type": "execute_result",
          "data": {
            "text/plain": [
              "'5.0 Magnitudo'"
            ],
            "application/vnd.google.colaboratory.intrinsic+json": {
              "type": "string"
            }
          },
          "metadata": {},
          "execution_count": 15
        }
      ]
    },
    {
      "cell_type": "markdown",
      "source": [
        "### B. Waktu Kejadian"
      ],
      "metadata": {
        "id": "hj9i_DsQXnyN"
      }
    },
    {
      "cell_type": "code",
      "source": [
        "waktu = page.div.select(\"h5\")\n",
        "wkt = waktu[0].text\n",
        "wkt"
      ],
      "metadata": {
        "colab": {
          "base_uri": "https://localhost:8080/",
          "height": 35
        },
        "id": "_g2YDt77XdH7",
        "outputId": "dc17c8d9-4e30-44e2-fa67-3f1a89a10058"
      },
      "execution_count": 16,
      "outputs": [
        {
          "output_type": "execute_result",
          "data": {
            "text/plain": [
              "'05 Oktober 2023, 11:25:47 WIB'"
            ],
            "application/vnd.google.colaboratory.intrinsic+json": {
              "type": "string"
            }
          },
          "metadata": {},
          "execution_count": 16
        }
      ]
    },
    {
      "cell_type": "markdown",
      "source": [
        "### C. Lokasi"
      ],
      "metadata": {
        "id": "tfLO5eBVYkdZ"
      }
    },
    {
      "cell_type": "code",
      "source": [
        "lokasi = page.div.select(\"p\", {\"class\":\"par\"})\n",
        "lok = lokasi[0].text.split()\n",
        "lok"
      ],
      "metadata": {
        "colab": {
          "base_uri": "https://localhost:8080/"
        },
        "id": "iNIP704rjhan",
        "outputId": "5c817d27-d089-4239-f101-02eeb32af4b3"
      },
      "execution_count": 17,
      "outputs": [
        {
          "output_type": "execute_result",
          "data": {
            "text/plain": [
              "['Lokasi', 'Gempa99', 'km', 'BaratDaya', 'BURUSELATAN-MALUKU']"
            ]
          },
          "metadata": {},
          "execution_count": 17
        }
      ]
    },
    {
      "cell_type": "code",
      "source": [
        "lok[1]"
      ],
      "metadata": {
        "colab": {
          "base_uri": "https://localhost:8080/",
          "height": 35
        },
        "id": "7kWlQSYRwZuJ",
        "outputId": "721b0095-4c23-4043-8745-6e3f02cfa0aa"
      },
      "execution_count": 18,
      "outputs": [
        {
          "output_type": "execute_result",
          "data": {
            "text/plain": [
              "'Gempa99'"
            ],
            "application/vnd.google.colaboratory.intrinsic+json": {
              "type": "string"
            }
          },
          "metadata": {},
          "execution_count": 18
        }
      ]
    },
    {
      "cell_type": "code",
      "source": [
        "ke = lok[1]\n",
        "pat = r'[a-zA-z]'\n",
        "ge = re.findall(pat, ke)\n",
        "ge"
      ],
      "metadata": {
        "colab": {
          "base_uri": "https://localhost:8080/"
        },
        "id": "_TyIIaxHm1A7",
        "outputId": "7964fee4-fb91-40b6-c56a-7fc0a7678c71"
      },
      "execution_count": 19,
      "outputs": [
        {
          "output_type": "execute_result",
          "data": {
            "text/plain": [
              "['G', 'e', 'm', 'p', 'a']"
            ]
          },
          "metadata": {},
          "execution_count": 19
        }
      ]
    },
    {
      "cell_type": "code",
      "source": [
        "tem = ''.join(ge)\n",
        "tem"
      ],
      "metadata": {
        "colab": {
          "base_uri": "https://localhost:8080/",
          "height": 35
        },
        "id": "KGQ9n4YEncz6",
        "outputId": "9718b520-05a8-4ffa-c315-54b387ae185c"
      },
      "execution_count": 20,
      "outputs": [
        {
          "output_type": "execute_result",
          "data": {
            "text/plain": [
              "'Gempa'"
            ],
            "application/vnd.google.colaboratory.intrinsic+json": {
              "type": "string"
            }
          },
          "metadata": {},
          "execution_count": 20
        }
      ]
    },
    {
      "cell_type": "code",
      "source": [
        "pola = r'[\\d]'\n",
        "km = re.findall(pola, ke)\n",
        "km"
      ],
      "metadata": {
        "colab": {
          "base_uri": "https://localhost:8080/"
        },
        "id": "V2_EIQsjfnjV",
        "outputId": "5b92f049-16bc-406f-ee25-71d43c433eb0"
      },
      "execution_count": 21,
      "outputs": [
        {
          "output_type": "execute_result",
          "data": {
            "text/plain": [
              "['9', '9']"
            ]
          },
          "metadata": {},
          "execution_count": 21
        }
      ]
    },
    {
      "cell_type": "code",
      "source": [
        "kilo = ''.join(km)\n",
        "kilo"
      ],
      "metadata": {
        "colab": {
          "base_uri": "https://localhost:8080/",
          "height": 35
        },
        "id": "zVRMKzqanjyQ",
        "outputId": "52b7f136-e7c8-44de-e711-1bd2a830270b"
      },
      "execution_count": 22,
      "outputs": [
        {
          "output_type": "execute_result",
          "data": {
            "text/plain": [
              "'99'"
            ],
            "application/vnd.google.colaboratory.intrinsic+json": {
              "type": "string"
            }
          },
          "metadata": {},
          "execution_count": 22
        }
      ]
    },
    {
      "cell_type": "code",
      "source": [
        "lok_pas = tem + \" \" + kilo\n",
        "\n",
        "lok[1] = lok_pas\n",
        "lok"
      ],
      "metadata": {
        "colab": {
          "base_uri": "https://localhost:8080/"
        },
        "id": "dKAK1M2whfqK",
        "outputId": "4333afbd-86cf-4807-cae6-18919ad918e4"
      },
      "execution_count": 23,
      "outputs": [
        {
          "output_type": "execute_result",
          "data": {
            "text/plain": [
              "['Lokasi', 'Gempa 99', 'km', 'BaratDaya', 'BURUSELATAN-MALUKU']"
            ]
          },
          "metadata": {},
          "execution_count": 23
        }
      ]
    },
    {
      "cell_type": "code",
      "source": [
        "pos = \" \".join(lok)\n",
        "pos"
      ],
      "metadata": {
        "colab": {
          "base_uri": "https://localhost:8080/",
          "height": 35
        },
        "id": "wrnnjwSfwz_Y",
        "outputId": "a9bad6d3-ccde-4819-f1d3-9accc5284261"
      },
      "execution_count": 24,
      "outputs": [
        {
          "output_type": "execute_result",
          "data": {
            "text/plain": [
              "'Lokasi Gempa 99 km BaratDaya BURUSELATAN-MALUKU'"
            ],
            "application/vnd.google.colaboratory.intrinsic+json": {
              "type": "string"
            }
          },
          "metadata": {},
          "execution_count": 24
        }
      ]
    },
    {
      "cell_type": "markdown",
      "source": [
        "# **5. Export ke CSV**"
      ],
      "metadata": {
        "id": "NCMSVs8FZua1"
      }
    },
    {
      "cell_type": "code",
      "source": [
        "import pandas as pd"
      ],
      "metadata": {
        "id": "8bQnoA6jcARX"
      },
      "execution_count": 25,
      "outputs": []
    },
    {
      "cell_type": "code",
      "source": [
        "print(magni)\n",
        "print(wkt)\n",
        "print(pos)"
      ],
      "metadata": {
        "colab": {
          "base_uri": "https://localhost:8080/"
        },
        "id": "9G80G0BRpRWf",
        "outputId": "eef9c339-51b8-4120-c6e9-04ec183db66a"
      },
      "execution_count": 26,
      "outputs": [
        {
          "output_type": "stream",
          "name": "stdout",
          "text": [
            "5.0 Magnitudo\n",
            "05 Oktober 2023, 11:25:47 WIB\n",
            "Lokasi Gempa 99 km BaratDaya BURUSELATAN-MALUKU\n"
          ]
        }
      ]
    },
    {
      "cell_type": "code",
      "source": [
        "from google.colab import drive\n",
        "drive.mount('/content/drive')"
      ],
      "metadata": {
        "colab": {
          "base_uri": "https://localhost:8080/"
        },
        "id": "ejHydvn-hRTE",
        "outputId": "605c2e17-1fc7-4862-9b9c-226935734643"
      },
      "execution_count": 27,
      "outputs": [
        {
          "output_type": "stream",
          "name": "stdout",
          "text": [
            "Drive already mounted at /content/drive; to attempt to forcibly remount, call drive.mount(\"/content/drive\", force_remount=True).\n"
          ]
        }
      ]
    },
    {
      "cell_type": "code",
      "source": [
        "data = {'Magnitudo':[an],\n",
        "        'Waktu Kejadian':[wkt],\n",
        "        'Lokasi':[pos]\n",
        "        }\n",
        "\n",
        "df = pd.DataFrame(data)\n",
        "\n",
        "#ubah path sesuai dengan path yang anda inginkan\n",
        "df.to_csv('/content/drive/My Drive/WebScrap/CSV/gempa.csv', index=False)"
      ],
      "metadata": {
        "id": "8aSwGH-0Z0uz"
      },
      "execution_count": 31,
      "outputs": []
    }
  ]
}